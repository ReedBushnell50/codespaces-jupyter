{
 "cells": [
  {
   "cell_type": "code",
   "execution_count": 3,
   "metadata": {},
   "outputs": [
    {
     "name": "stdout",
     "output_type": "stream",
     "text": [
      "Hello World\n"
     ]
    }
   ],
   "source": [
    "print(\"Hello World\")"
   ]
  },
  {
   "cell_type": "code",
   "execution_count": 4,
   "metadata": {},
   "outputs": [
    {
     "name": "stdout",
     "output_type": "stream",
     "text": [
      "Requirement already satisfied: newspaper3k in /home/codespace/.python/current/lib/python3.12/site-packages (0.2.8)\n",
      "Requirement already satisfied: beautifulsoup4>=4.4.1 in /home/codespace/.local/lib/python3.12/site-packages (from newspaper3k) (4.12.3)\n",
      "Requirement already satisfied: Pillow>=3.3.0 in /home/codespace/.local/lib/python3.12/site-packages (from newspaper3k) (11.0.0)\n",
      "Requirement already satisfied: PyYAML>=3.11 in /home/codespace/.local/lib/python3.12/site-packages (from newspaper3k) (6.0.2)\n",
      "Requirement already satisfied: cssselect>=0.9.2 in /home/codespace/.python/current/lib/python3.12/site-packages (from newspaper3k) (1.2.0)\n",
      "Requirement already satisfied: lxml>=3.6.0 in /home/codespace/.python/current/lib/python3.12/site-packages (from newspaper3k) (5.3.1)\n",
      "Requirement already satisfied: nltk>=3.2.1 in /home/codespace/.python/current/lib/python3.12/site-packages (from newspaper3k) (3.9.1)\n",
      "Requirement already satisfied: requests>=2.10.0 in /home/codespace/.local/lib/python3.12/site-packages (from newspaper3k) (2.32.3)\n",
      "Requirement already satisfied: feedparser>=5.2.1 in /home/codespace/.python/current/lib/python3.12/site-packages (from newspaper3k) (6.0.11)\n",
      "Requirement already satisfied: tldextract>=2.0.1 in /home/codespace/.python/current/lib/python3.12/site-packages (from newspaper3k) (5.1.3)\n",
      "Requirement already satisfied: feedfinder2>=0.0.4 in /home/codespace/.python/current/lib/python3.12/site-packages (from newspaper3k) (0.0.4)\n",
      "Requirement already satisfied: jieba3k>=0.35.1 in /home/codespace/.python/current/lib/python3.12/site-packages (from newspaper3k) (0.35.1)\n",
      "Requirement already satisfied: python-dateutil>=2.5.3 in /home/codespace/.local/lib/python3.12/site-packages (from newspaper3k) (2.9.0.post0)\n",
      "Requirement already satisfied: tinysegmenter==0.3 in /home/codespace/.python/current/lib/python3.12/site-packages (from newspaper3k) (0.3)\n",
      "Requirement already satisfied: soupsieve>1.2 in /home/codespace/.local/lib/python3.12/site-packages (from beautifulsoup4>=4.4.1->newspaper3k) (2.6)\n",
      "Requirement already satisfied: six in /home/codespace/.local/lib/python3.12/site-packages (from feedfinder2>=0.0.4->newspaper3k) (1.17.0)\n",
      "Requirement already satisfied: sgmllib3k in /home/codespace/.python/current/lib/python3.12/site-packages (from feedparser>=5.2.1->newspaper3k) (1.0.0)\n",
      "Requirement already satisfied: click in /home/codespace/.python/current/lib/python3.12/site-packages (from nltk>=3.2.1->newspaper3k) (8.1.8)\n",
      "Requirement already satisfied: joblib in /home/codespace/.local/lib/python3.12/site-packages (from nltk>=3.2.1->newspaper3k) (1.4.2)\n",
      "Requirement already satisfied: regex>=2021.8.3 in /home/codespace/.python/current/lib/python3.12/site-packages (from nltk>=3.2.1->newspaper3k) (2024.11.6)\n",
      "Requirement already satisfied: tqdm in /home/codespace/.python/current/lib/python3.12/site-packages (from nltk>=3.2.1->newspaper3k) (4.66.4)\n",
      "Requirement already satisfied: charset-normalizer<4,>=2 in /home/codespace/.local/lib/python3.12/site-packages (from requests>=2.10.0->newspaper3k) (3.4.0)\n",
      "Requirement already satisfied: idna<4,>=2.5 in /home/codespace/.local/lib/python3.12/site-packages (from requests>=2.10.0->newspaper3k) (3.10)\n",
      "Requirement already satisfied: urllib3<3,>=1.21.1 in /home/codespace/.local/lib/python3.12/site-packages (from requests>=2.10.0->newspaper3k) (2.2.3)\n",
      "Requirement already satisfied: certifi>=2017.4.17 in /home/codespace/.local/lib/python3.12/site-packages (from requests>=2.10.0->newspaper3k) (2024.8.30)\n",
      "Requirement already satisfied: requests-file>=1.4 in /home/codespace/.python/current/lib/python3.12/site-packages (from tldextract>=2.0.1->newspaper3k) (2.1.0)\n",
      "Requirement already satisfied: filelock>=3.0.8 in /home/codespace/.local/lib/python3.12/site-packages (from tldextract>=2.0.1->newspaper3k) (3.13.1)\n",
      "\n",
      "\u001b[1m[\u001b[0m\u001b[34;49mnotice\u001b[0m\u001b[1;39;49m]\u001b[0m\u001b[39;49m A new release of pip is available: \u001b[0m\u001b[31;49m24.3.1\u001b[0m\u001b[39;49m -> \u001b[0m\u001b[32;49m25.0.1\u001b[0m\n",
      "\u001b[1m[\u001b[0m\u001b[34;49mnotice\u001b[0m\u001b[1;39;49m]\u001b[0m\u001b[39;49m To update, run: \u001b[0m\u001b[32;49mpip install --upgrade pip\u001b[0m\n",
      "Note: you may need to restart the kernel to use updated packages.\n",
      "\u001b[31mERROR: Could not find a version that satisfies the requirement lxm[html_clean] (from versions: none)\u001b[0m\u001b[31m\n",
      "\u001b[0m\n",
      "\u001b[1m[\u001b[0m\u001b[34;49mnotice\u001b[0m\u001b[1;39;49m]\u001b[0m\u001b[39;49m A new release of pip is available: \u001b[0m\u001b[31;49m24.3.1\u001b[0m\u001b[39;49m -> \u001b[0m\u001b[32;49m25.0.1\u001b[0m\n",
      "\u001b[1m[\u001b[0m\u001b[34;49mnotice\u001b[0m\u001b[1;39;49m]\u001b[0m\u001b[39;49m To update, run: \u001b[0m\u001b[32;49mpip install --upgrade pip\u001b[0m\n",
      "\u001b[31mERROR: No matching distribution found for lxm[html_clean]\u001b[0m\u001b[31m\n",
      "\u001b[0mNote: you may need to restart the kernel to use updated packages.\n"
     ]
    }
   ],
   "source": [
    "%pip install newspaper3k\n",
    "%pip install lxm[html_clean]"
   ]
  },
  {
   "cell_type": "code",
   "execution_count": 5,
   "metadata": {},
   "outputs": [],
   "source": [
    "from newspaper import Article\n",
    "article1 =  Article(\"https://www.npr.org/2025/02/18/g-s1-49450/elon-musk-doge-leader\") \n",
    "article1.download()"
   ]
  },
  {
   "cell_type": "code",
   "execution_count": 6,
   "metadata": {},
   "outputs": [
    {
     "data": {
      "text/plain": [
       "['Stephen Fowler']"
      ]
     },
     "execution_count": 6,
     "metadata": {},
     "output_type": "execute_result"
    }
   ],
   "source": [
    "article1.parse() #execute the parsing method\n",
    "article1.authors #retrieve the text of the article"
   ]
  },
  {
   "cell_type": "code",
   "execution_count": 12,
   "metadata": {},
   "outputs": [
    {
     "name": "stdout",
     "output_type": "stream",
     "text": [
      "{'efficiency': 1, 'nebulous': 1, '—': 3, 'advisors,\"': 1, '\"our': 1, 'announced': 1, 'acknowledges': 1, '\"plaintiffs': 1, 'doge,': 3, 'ramaswamy.': 1, 'of': 19, 'office': 3, 'federal': 4, 'entity,': 1, 'just': 1, 'agencies.': 1, 'entity.': 1, 'is,': 1, 'one': 1, 'did': 1, 'not': 7, 'administration,': 1, 'referring': 1, 'questions': 2, 'actual': 1, 'also': 3, 'only': 1, 'me,': 1, 'seemed': 1, 'house': 6, 'democratic': 2, 'denied': 3, 'communicate': 1, 'has': 5, 'changes.': 1, 'separation': 1, 'leader': 1, 'make': 4, 'case,': 1, 'it': 2, 'ags': 1, 'skeptical': 2, 'but': 3, 'elon': 1, 'wrote,': 1, 'government,': 1, 'followed': 1, 'position.': 1, 'imminent,': 1, 'joshua': 1, 'doge': 10, 'powers': 1, 'authorization': 1, 'patriot.\"': 1, 'data': 1, 'says': 2, 'toggle': 1, 'oval': 1, 'technology': 1, 'what': 2, 'workers': 1, 'taken': 1, 'work': 1, 'president.': 1, 'question': 1, 'was': 6, 'effort': 2, 'patriot.': 1, 'irreparable': 1, 'monday': 3, 'you': 5, 'candidate': 1, 'plaintiffs': 1, 'trump': 6, 'skepticism': 1, 'district': 1, 'order': 1, '\"delegated': 1, 'u.s.': 4, \"filing's\": 1, 'who': 3, 'mr.': 4, 'had': 2, 'separate': 1, 'andrew': 1, 'role': 4, 'mention': 1, 'certain': 1, 'senior': 3, 'pitched': 1, 'actions': 2, 'temporarily': 1, 'temporary': 2, 'contracts': 1, 'is': 6, 'unchecked': 2, 'day': 1, 'these': 1, \"states'\": 1, 'ruled': 1, 'accessing': 1, 'proper': 1, 'made': 2, 'state': 1, 'advisors,': 1, 'unelected': 1, 'oversight.\"': 1, 'about': 3, 'department': 1, 'co-led': 1, 'staffing.': 1, 'raise': 1, 'governmental': 1, 'court': 1, '\"maximally': 1, 'administrator': 1, 'spending': 1, 'illegal': 1, 'she': 3, 'he': 1, 'for': 2, 'employee': 4, 'call': 4, 'harm': 1, 'tanya': 1, 'leader.': 1, 'his': 2, 'gop': 1, 'himself.': 1, 'personnel': 1, 'general': 2, 'characterization': 1, 'decisions': 1, 'representations': 1, 'technically': 1, 'directives.\"': 1, 'said': 1, 'effort,': 1, 'umbrella': 1, 'administration': 1, 'involved': 1, 'authority': 6, 'and': 14, 'executive': 2, 'with': 3, 'halt': 3, 'improving': 1, 'filing': 5, 'which': 1, 'standing': 1, 'first': 2, 'government': 9, 'that': 10, 'decisions.': 1, 'said:': 1, 'musk': 14, 'night': 1, 'presidential': 1, 'serves': 1, 'initiative.': 1, 'former': 2, 'fisher,': 1, 'operations': 1, 'over': 2, 'by': 5, \"president's\": 1, \"trump's\": 1, 'restraining': 1, 'message': 2, 'declaration': 2, 'charge': 2, 'evidence': 1, 'hearing': 1, 'other': 4, 'public': 1, 'barack': 1, 'described': 1, 'cutting': 1, 'so': 1, 'request': 2, '\"in': 1, 'obama': 1, 'many': 1, 'want,': 1, 'digital': 1, 'lawsuit': 1, 'constitution.': 1, 'without': 1, 'when': 1, 'sided': 1, 'plaintiffs.\"': 1, 'reads.': 1, 'congress.\"': 1, 'speaking': 1, 'lawyers': 2, 'entity': 1, 'last': 1, 'employee.': 1, 'advise': 1, 'created': 1, 'sweeping': 1, 'an': 10, 'entrepreneur': 1, 'in': 10, 'into': 1, 'outside': 1, 'lawsuit,': 1, 'bid': 1, 'things': 1, 'musk,': 1, 'on': 4, '\"senior': 1, 'wrote:': 1, 'states,': 1, 'the': 43, '\"elon': 1, 'expressed': 1, 'chutkan': 2, 'moving': 1, 'appears': 1, 'president,': 1, 'tuesday': 1, 'her': 1, 'president': 3, 'though': 1, 'tuesday,': 2, 'no': 5, 'week,': 1, 'admonished': 1, 'to': 20, 'tasked': 1, 'at': 4, 'know,': 1, 'attorneys': 2, 'harnik/getty': 1, \"he's\": 1, 'president.\"': 1, 'among': 1, 'legitimately': 1, 'legal': 1, 'reporters': 1, 'there': 1, 'formal': 1, 'direct': 1, 'tech': 1, 'could': 3, 'united': 1, 'ruling': 1, 'caption': 1, 'goes': 1, 'virtually': 1, 'him': 3, 'renaming': 1, 'vivek': 1, 'meanwhile,': 1, 'from': 5, 'can': 1, 'images': 1, 'contradicts': 1, 'terminating': 1, 'next': 1, 'anyway': 1, 'consultant.': 1, 'states': 2, 'as': 6, 'usds': 1, \"musk's\": 4, 'advisor': 2, 'its': 1, 'office,': 1, 'organization': 2, 'holds': 2, 'congress': 1, 'whatever': 1, 'agencies': 1, \"administration's\": 1, 'individual': 1, 'legally,': 1, 'review': 1, 'continues': 1, 'judge': 5, 'position': 1, 'special': 1, 'sponsor': 2, 'position,': 1, 'assigned': 1, 'appointee': 1, 'cancel': 1, 'say': 1, 'under': 1, 'work,': 1, 'claimed': 1, 'violates': 1, '(usds)': 1, 'white': 6, \"wasn't\": 1, 'or': 6, 'actions\"': 1, 'employee,': 1, 'claim': 1, 'because,': 1, 'director': 1, 'a': 17, 'answering': 1, 'be': 2, '\"like': 1, 'argued': 1, 'transparent.\"': 1, 'service': 3, '\"clear': 1, 'greater': 1, 'alleged': 1, 'than': 1, '14': 1, \"billionaire's\": 1}\n",
      "{'efficiency': 0.0015290519877675841, 'nebulous': 0.0015290519877675841, '—': 0.0045871559633027525, 'advisors,\"': 0.0015290519877675841, '\"our': 0.0015290519877675841, 'announced': 0.0015290519877675841, 'acknowledges': 0.0015290519877675841, '\"plaintiffs': 0.0015290519877675841, 'doge,': 0.0045871559633027525, 'ramaswamy.': 0.0015290519877675841, 'of': 0.0290519877675841, 'office': 0.0045871559633027525, 'federal': 0.0061162079510703364, 'entity,': 0.0015290519877675841, 'just': 0.0015290519877675841, 'agencies.': 0.0015290519877675841, 'entity.': 0.0015290519877675841, 'is,': 0.0015290519877675841, 'one': 0.0015290519877675841, 'did': 0.0015290519877675841, 'not': 0.010703363914373088, 'administration,': 0.0015290519877675841, 'referring': 0.0015290519877675841, 'questions': 0.0030581039755351682, 'actual': 0.0015290519877675841, 'also': 0.0045871559633027525, 'only': 0.0015290519877675841, 'me,': 0.0015290519877675841, 'seemed': 0.0015290519877675841, 'house': 0.009174311926605505, 'democratic': 0.0030581039755351682, 'denied': 0.0045871559633027525, 'communicate': 0.0015290519877675841, 'has': 0.00764525993883792, 'changes.': 0.0015290519877675841, 'separation': 0.0015290519877675841, 'leader': 0.0015290519877675841, 'make': 0.0061162079510703364, 'case,': 0.0015290519877675841, 'it': 0.0030581039755351682, 'ags': 0.0015290519877675841, 'skeptical': 0.0030581039755351682, 'but': 0.0045871559633027525, 'elon': 0.0015290519877675841, 'wrote,': 0.0015290519877675841, 'government,': 0.0015290519877675841, 'followed': 0.0015290519877675841, 'position.': 0.0015290519877675841, 'imminent,': 0.0015290519877675841, 'joshua': 0.0015290519877675841, 'doge': 0.01529051987767584, 'powers': 0.0015290519877675841, 'authorization': 0.0015290519877675841, 'patriot.\"': 0.0015290519877675841, 'data': 0.0015290519877675841, 'says': 0.0030581039755351682, 'toggle': 0.0015290519877675841, 'oval': 0.0015290519877675841, 'technology': 0.0015290519877675841, 'what': 0.0030581039755351682, 'workers': 0.0015290519877675841, 'taken': 0.0015290519877675841, 'work': 0.0015290519877675841, 'president.': 0.0015290519877675841, 'question': 0.0015290519877675841, 'was': 0.009174311926605505, 'effort': 0.0030581039755351682, 'patriot.': 0.0015290519877675841, 'irreparable': 0.0015290519877675841, 'monday': 0.0045871559633027525, 'you': 0.00764525993883792, 'candidate': 0.0015290519877675841, 'plaintiffs': 0.0015290519877675841, 'trump': 0.009174311926605505, 'skepticism': 0.0015290519877675841, 'district': 0.0015290519877675841, 'order': 0.0015290519877675841, '\"delegated': 0.0015290519877675841, 'u.s.': 0.0061162079510703364, \"filing's\": 0.0015290519877675841, 'who': 0.0045871559633027525, 'mr.': 0.0061162079510703364, 'had': 0.0030581039755351682, 'separate': 0.0015290519877675841, 'andrew': 0.0015290519877675841, 'role': 0.0061162079510703364, 'mention': 0.0015290519877675841, 'certain': 0.0015290519877675841, 'senior': 0.0045871559633027525, 'pitched': 0.0015290519877675841, 'actions': 0.0030581039755351682, 'temporarily': 0.0015290519877675841, 'temporary': 0.0030581039755351682, 'contracts': 0.0015290519877675841, 'is': 0.009174311926605505, 'unchecked': 0.0030581039755351682, 'day': 0.0015290519877675841, 'these': 0.0015290519877675841, \"states'\": 0.0015290519877675841, 'ruled': 0.0015290519877675841, 'accessing': 0.0015290519877675841, 'proper': 0.0015290519877675841, 'made': 0.0030581039755351682, 'state': 0.0015290519877675841, 'advisors,': 0.0015290519877675841, 'unelected': 0.0015290519877675841, 'oversight.\"': 0.0015290519877675841, 'about': 0.0045871559633027525, 'department': 0.0015290519877675841, 'co-led': 0.0015290519877675841, 'staffing.': 0.0015290519877675841, 'raise': 0.0015290519877675841, 'governmental': 0.0015290519877675841, 'court': 0.0015290519877675841, '\"maximally': 0.0015290519877675841, 'administrator': 0.0015290519877675841, 'spending': 0.0015290519877675841, 'illegal': 0.0015290519877675841, 'she': 0.0045871559633027525, 'he': 0.0015290519877675841, 'for': 0.0030581039755351682, 'employee': 0.0061162079510703364, 'call': 0.0061162079510703364, 'harm': 0.0015290519877675841, 'tanya': 0.0015290519877675841, 'leader.': 0.0015290519877675841, 'his': 0.0030581039755351682, 'gop': 0.0015290519877675841, 'himself.': 0.0015290519877675841, 'personnel': 0.0015290519877675841, 'general': 0.0030581039755351682, 'characterization': 0.0015290519877675841, 'decisions': 0.0015290519877675841, 'representations': 0.0015290519877675841, 'technically': 0.0015290519877675841, 'directives.\"': 0.0015290519877675841, 'said': 0.0015290519877675841, 'effort,': 0.0015290519877675841, 'umbrella': 0.0015290519877675841, 'administration': 0.0015290519877675841, 'involved': 0.0015290519877675841, 'authority': 0.009174311926605505, 'and': 0.021406727828746176, 'executive': 0.0030581039755351682, 'with': 0.0045871559633027525, 'halt': 0.0045871559633027525, 'improving': 0.0015290519877675841, 'filing': 0.00764525993883792, 'which': 0.0015290519877675841, 'standing': 0.0015290519877675841, 'first': 0.0030581039755351682, 'government': 0.013761467889908258, 'that': 0.01529051987767584, 'decisions.': 0.0015290519877675841, 'said:': 0.0015290519877675841, 'musk': 0.021406727828746176, 'night': 0.0015290519877675841, 'presidential': 0.0015290519877675841, 'serves': 0.0015290519877675841, 'initiative.': 0.0015290519877675841, 'former': 0.0030581039755351682, 'fisher,': 0.0015290519877675841, 'operations': 0.0015290519877675841, 'over': 0.0030581039755351682, 'by': 0.00764525993883792, \"president's\": 0.0015290519877675841, \"trump's\": 0.0015290519877675841, 'restraining': 0.0015290519877675841, 'message': 0.0030581039755351682, 'declaration': 0.0030581039755351682, 'charge': 0.0030581039755351682, 'evidence': 0.0015290519877675841, 'hearing': 0.0015290519877675841, 'other': 0.0061162079510703364, 'public': 0.0015290519877675841, 'barack': 0.0015290519877675841, 'described': 0.0015290519877675841, 'cutting': 0.0015290519877675841, 'so': 0.0015290519877675841, 'request': 0.0030581039755351682, '\"in': 0.0015290519877675841, 'obama': 0.0015290519877675841, 'many': 0.0015290519877675841, 'want,': 0.0015290519877675841, 'digital': 0.0015290519877675841, 'lawsuit': 0.0015290519877675841, 'constitution.': 0.0015290519877675841, 'without': 0.0015290519877675841, 'when': 0.0015290519877675841, 'sided': 0.0015290519877675841, 'plaintiffs.\"': 0.0015290519877675841, 'reads.': 0.0015290519877675841, 'congress.\"': 0.0015290519877675841, 'speaking': 0.0015290519877675841, 'lawyers': 0.0030581039755351682, 'entity': 0.0015290519877675841, 'last': 0.0015290519877675841, 'employee.': 0.0015290519877675841, 'advise': 0.0015290519877675841, 'created': 0.0015290519877675841, 'sweeping': 0.0015290519877675841, 'an': 0.01529051987767584, 'entrepreneur': 0.0015290519877675841, 'in': 0.01529051987767584, 'into': 0.0015290519877675841, 'outside': 0.0015290519877675841, 'lawsuit,': 0.0015290519877675841, 'bid': 0.0015290519877675841, 'things': 0.0015290519877675841, 'musk,': 0.0015290519877675841, 'on': 0.0061162079510703364, '\"senior': 0.0015290519877675841, 'wrote:': 0.0015290519877675841, 'states,': 0.0015290519877675841, 'the': 0.06574923547400612, '\"elon': 0.0015290519877675841, 'expressed': 0.0015290519877675841, 'chutkan': 0.0030581039755351682, 'moving': 0.0015290519877675841, 'appears': 0.0015290519877675841, 'president,': 0.0015290519877675841, 'tuesday': 0.0015290519877675841, 'her': 0.0015290519877675841, 'president': 0.0045871559633027525, 'though': 0.0015290519877675841, 'tuesday,': 0.0030581039755351682, 'no': 0.00764525993883792, 'week,': 0.0015290519877675841, 'admonished': 0.0015290519877675841, 'to': 0.03058103975535168, 'tasked': 0.0015290519877675841, 'at': 0.0061162079510703364, 'know,': 0.0015290519877675841, 'attorneys': 0.0030581039755351682, 'harnik/getty': 0.0015290519877675841, \"he's\": 0.0015290519877675841, 'president.\"': 0.0015290519877675841, 'among': 0.0015290519877675841, 'legitimately': 0.0015290519877675841, 'legal': 0.0015290519877675841, 'reporters': 0.0015290519877675841, 'there': 0.0015290519877675841, 'formal': 0.0015290519877675841, 'direct': 0.0015290519877675841, 'tech': 0.0015290519877675841, 'could': 0.0045871559633027525, 'united': 0.0015290519877675841, 'ruling': 0.0015290519877675841, 'caption': 0.0015290519877675841, 'goes': 0.0015290519877675841, 'virtually': 0.0015290519877675841, 'him': 0.0045871559633027525, 'renaming': 0.0015290519877675841, 'vivek': 0.0015290519877675841, 'meanwhile,': 0.0015290519877675841, 'from': 0.00764525993883792, 'can': 0.0015290519877675841, 'images': 0.0015290519877675841, 'contradicts': 0.0015290519877675841, 'terminating': 0.0015290519877675841, 'next': 0.0015290519877675841, 'anyway': 0.0015290519877675841, 'consultant.': 0.0015290519877675841, 'states': 0.0030581039755351682, 'as': 0.009174311926605505, 'usds': 0.0015290519877675841, \"musk's\": 0.0061162079510703364, 'advisor': 0.0030581039755351682, 'its': 0.0015290519877675841, 'office,': 0.0015290519877675841, 'organization': 0.0030581039755351682, 'holds': 0.0030581039755351682, 'congress': 0.0015290519877675841, 'whatever': 0.0015290519877675841, 'agencies': 0.0015290519877675841, \"administration's\": 0.0015290519877675841, 'individual': 0.0015290519877675841, 'legally,': 0.0015290519877675841, 'review': 0.0015290519877675841, 'continues': 0.0015290519877675841, 'judge': 0.00764525993883792, 'position': 0.0015290519877675841, 'special': 0.0015290519877675841, 'sponsor': 0.0030581039755351682, 'position,': 0.0015290519877675841, 'assigned': 0.0015290519877675841, 'appointee': 0.0015290519877675841, 'cancel': 0.0015290519877675841, 'say': 0.0015290519877675841, 'under': 0.0015290519877675841, 'work,': 0.0015290519877675841, 'claimed': 0.0015290519877675841, 'violates': 0.0015290519877675841, '(usds)': 0.0015290519877675841, 'white': 0.009174311926605505, \"wasn't\": 0.0015290519877675841, 'or': 0.009174311926605505, 'actions\"': 0.0015290519877675841, 'employee,': 0.0015290519877675841, 'claim': 0.0015290519877675841, 'because,': 0.0015290519877675841, 'director': 0.0015290519877675841, 'a': 0.02599388379204893, 'answering': 0.0015290519877675841, 'be': 0.0030581039755351682, '\"like': 0.0015290519877675841, 'argued': 0.0015290519877675841, 'transparent.\"': 0.0015290519877675841, 'service': 0.0045871559633027525, '\"clear': 0.0015290519877675841, 'greater': 0.0015290519877675841, 'alleged': 0.0015290519877675841, 'than': 0.0015290519877675841, '14': 0.0015290519877675841, \"billionaire's\": 0.0015290519877675841}\n"
     ]
    }
   ],
   "source": [
    "# now we create a bag-of-words language model for this article\n",
    "# the naive version - we want to count the frequencies of each word type\n",
    "word_tokens = article1.text.lower().split()\n",
    "word_types = set(word_tokens)\n",
    "\n",
    "# let's count the numer of times each word type has occurred\n",
    "word_counter = {} # use a python dictionary to keep the counts\n",
    "bow_model = {}\n",
    "for wt in word_types: \n",
    "    word_counter [wt] = word_tokens.count(wt)\n",
    "    bow_model[wt] = word_tokens.count(wt) / len(word_tokens)\n",
    "\n",
    "print(word_counter)\n",
    "print(bow_model)"
   ]
  },
  {
   "cell_type": "code",
   "execution_count": 14,
   "metadata": {},
   "outputs": [
    {
     "data": {
      "text/plain": [
       "0.021406727828746176"
      ]
     },
     "execution_count": 14,
     "metadata": {},
     "output_type": "execute_result"
    }
   ],
   "source": [
    "# we can ask the model for probability of words\n",
    "bow_model[\"and\"]"
   ]
  }
 ],
 "metadata": {
  "kernelspec": {
   "display_name": "Python 3",
   "language": "python",
   "name": "python3"
  },
  "language_info": {
   "codemirror_mode": {
    "name": "ipython",
    "version": 3
   },
   "file_extension": ".py",
   "mimetype": "text/x-python",
   "name": "python",
   "nbconvert_exporter": "python",
   "pygments_lexer": "ipython3",
   "version": "3.12.1"
  }
 },
 "nbformat": 4,
 "nbformat_minor": 2
}
