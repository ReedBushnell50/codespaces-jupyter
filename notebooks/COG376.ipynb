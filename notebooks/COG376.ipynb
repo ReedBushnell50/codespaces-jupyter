{
 "cells": [
  {
   "cell_type": "code",
   "execution_count": 1,
   "metadata": {},
   "outputs": [
    {
     "name": "stdout",
     "output_type": "stream",
     "text": [
      "Hello World\n"
     ]
    }
   ],
   "source": [
    "print(\"Hello World\")"
   ]
  },
  {
   "cell_type": "code",
   "execution_count": 2,
   "metadata": {},
   "outputs": [
    {
     "name": "stdout",
     "output_type": "stream",
     "text": [
      "Requirement already satisfied: newspaper3k in /usr/local/python/3.12.1/lib/python3.12/site-packages (0.2.8)\n",
      "Requirement already satisfied: beautifulsoup4>=4.4.1 in /home/codespace/.local/lib/python3.12/site-packages (from newspaper3k) (4.12.3)\n",
      "Requirement already satisfied: Pillow>=3.3.0 in /home/codespace/.local/lib/python3.12/site-packages (from newspaper3k) (11.0.0)\n",
      "Requirement already satisfied: PyYAML>=3.11 in /home/codespace/.local/lib/python3.12/site-packages (from newspaper3k) (6.0.2)\n",
      "Requirement already satisfied: cssselect>=0.9.2 in /usr/local/python/3.12.1/lib/python3.12/site-packages (from newspaper3k) (1.2.0)\n",
      "Requirement already satisfied: lxml>=3.6.0 in /usr/local/python/3.12.1/lib/python3.12/site-packages (from newspaper3k) (5.3.1)\n",
      "Requirement already satisfied: nltk>=3.2.1 in /usr/local/python/3.12.1/lib/python3.12/site-packages (from newspaper3k) (3.9.1)\n",
      "Requirement already satisfied: requests>=2.10.0 in /home/codespace/.local/lib/python3.12/site-packages (from newspaper3k) (2.32.3)\n",
      "Requirement already satisfied: feedparser>=5.2.1 in /usr/local/python/3.12.1/lib/python3.12/site-packages (from newspaper3k) (6.0.11)\n",
      "Requirement already satisfied: tldextract>=2.0.1 in /usr/local/python/3.12.1/lib/python3.12/site-packages (from newspaper3k) (5.1.3)\n",
      "Requirement already satisfied: feedfinder2>=0.0.4 in /usr/local/python/3.12.1/lib/python3.12/site-packages (from newspaper3k) (0.0.4)\n",
      "Requirement already satisfied: jieba3k>=0.35.1 in /usr/local/python/3.12.1/lib/python3.12/site-packages (from newspaper3k) (0.35.1)\n",
      "Requirement already satisfied: python-dateutil>=2.5.3 in /home/codespace/.local/lib/python3.12/site-packages (from newspaper3k) (2.9.0.post0)\n",
      "Requirement already satisfied: tinysegmenter==0.3 in /usr/local/python/3.12.1/lib/python3.12/site-packages (from newspaper3k) (0.3)\n",
      "Requirement already satisfied: soupsieve>1.2 in /home/codespace/.local/lib/python3.12/site-packages (from beautifulsoup4>=4.4.1->newspaper3k) (2.6)\n",
      "Requirement already satisfied: six in /home/codespace/.local/lib/python3.12/site-packages (from feedfinder2>=0.0.4->newspaper3k) (1.17.0)\n",
      "Requirement already satisfied: sgmllib3k in /usr/local/python/3.12.1/lib/python3.12/site-packages (from feedparser>=5.2.1->newspaper3k) (1.0.0)\n",
      "Requirement already satisfied: click in /usr/local/python/3.12.1/lib/python3.12/site-packages (from nltk>=3.2.1->newspaper3k) (8.1.8)\n",
      "Requirement already satisfied: joblib in /home/codespace/.local/lib/python3.12/site-packages (from nltk>=3.2.1->newspaper3k) (1.4.2)\n",
      "Requirement already satisfied: regex>=2021.8.3 in /usr/local/python/3.12.1/lib/python3.12/site-packages (from nltk>=3.2.1->newspaper3k) (2024.11.6)\n",
      "Requirement already satisfied: tqdm in /usr/local/python/3.12.1/lib/python3.12/site-packages (from nltk>=3.2.1->newspaper3k) (4.66.4)\n",
      "Requirement already satisfied: charset-normalizer<4,>=2 in /home/codespace/.local/lib/python3.12/site-packages (from requests>=2.10.0->newspaper3k) (3.4.0)\n",
      "Requirement already satisfied: idna<4,>=2.5 in /home/codespace/.local/lib/python3.12/site-packages (from requests>=2.10.0->newspaper3k) (3.10)\n",
      "Requirement already satisfied: urllib3<3,>=1.21.1 in /home/codespace/.local/lib/python3.12/site-packages (from requests>=2.10.0->newspaper3k) (2.2.3)\n",
      "Requirement already satisfied: certifi>=2017.4.17 in /home/codespace/.local/lib/python3.12/site-packages (from requests>=2.10.0->newspaper3k) (2024.8.30)\n",
      "Requirement already satisfied: requests-file>=1.4 in /usr/local/python/3.12.1/lib/python3.12/site-packages (from tldextract>=2.0.1->newspaper3k) (2.1.0)\n",
      "Requirement already satisfied: filelock>=3.0.8 in /home/codespace/.local/lib/python3.12/site-packages (from tldextract>=2.0.1->newspaper3k) (3.13.1)\n",
      "\n",
      "\u001b[1m[\u001b[0m\u001b[34;49mnotice\u001b[0m\u001b[1;39;49m]\u001b[0m\u001b[39;49m A new release of pip is available: \u001b[0m\u001b[31;49m24.3.1\u001b[0m\u001b[39;49m -> \u001b[0m\u001b[32;49m25.0.1\u001b[0m\n",
      "\u001b[1m[\u001b[0m\u001b[34;49mnotice\u001b[0m\u001b[1;39;49m]\u001b[0m\u001b[39;49m To update, run: \u001b[0m\u001b[32;49mpython -m pip install --upgrade pip\u001b[0m\n",
      "Note: you may need to restart the kernel to use updated packages.\n",
      "\u001b[31mERROR: Could not find a version that satisfies the requirement lxm[html_clean] (from versions: none)\u001b[0m\u001b[31m\n",
      "\u001b[0m\n",
      "\u001b[1m[\u001b[0m\u001b[34;49mnotice\u001b[0m\u001b[1;39;49m]\u001b[0m\u001b[39;49m A new release of pip is available: \u001b[0m\u001b[31;49m24.3.1\u001b[0m\u001b[39;49m -> \u001b[0m\u001b[32;49m25.0.1\u001b[0m\n",
      "\u001b[1m[\u001b[0m\u001b[34;49mnotice\u001b[0m\u001b[1;39;49m]\u001b[0m\u001b[39;49m To update, run: \u001b[0m\u001b[32;49mpython -m pip install --upgrade pip\u001b[0m\n",
      "\u001b[31mERROR: No matching distribution found for lxm[html_clean]\u001b[0m\u001b[31m\n",
      "\u001b[0mNote: you may need to restart the kernel to use updated packages.\n"
     ]
    }
   ],
   "source": [
    "%pip install newspaper3k\n",
    "%pip install lxm[html_clean]"
   ]
  },
  {
   "cell_type": "code",
   "execution_count": 3,
   "metadata": {},
   "outputs": [],
   "source": [
    "from newspaper import Article\n",
    "article1 =  Article(\"https://www.npr.org/2025/02/18/g-s1-49450/elon-musk-doge-leader\") \n",
    "article1.download()"
   ]
  },
  {
   "cell_type": "code",
   "execution_count": 4,
   "metadata": {},
   "outputs": [
    {
     "data": {
      "text/plain": [
       "['Stephen Fowler']"
      ]
     },
     "execution_count": 4,
     "metadata": {},
     "output_type": "execute_result"
    }
   ],
   "source": [
    "article1.parse() #execute the parsing method\n",
    "article1.authors #retrieve the text of the article"
   ]
  },
  {
   "cell_type": "code",
   "execution_count": 5,
   "metadata": {},
   "outputs": [
    {
     "name": "stdout",
     "output_type": "stream",
     "text": [
      "{\"president's\": 1, 'whatever': 1, 'lawyers': 2, 'gop': 1, 'hearing': 1, 'for': 2, 'co-led': 1, 'staffing.': 1, 'himself.': 1, 'unelected': 1, 'position.': 1, 'has': 5, 'advise': 1, 'initiative.': 1, 'alleged': 1, 'legitimately': 1, 'standing': 1, 'night': 1, 'among': 1, 'outside': 1, 'an': 10, 'on': 4, 'directives.\"': 1, 'direct': 1, 'legal': 1, 'speaking': 1, 'under': 1, 'violates': 1, 'argued': 1, 'wrote,': 1, 'powers': 1, 'united': 1, 'there': 1, 'employee.': 1, \"trump's\": 1, 'at': 4, 'these': 1, 'government': 9, 'said': 1, 'evidence': 1, 'formal': 1, 'contracts': 1, 'is': 6, 'of': 19, 'workers': 1, 'also': 3, 'fisher,': 1, 'administrator': 1, 'only': 1, 'office': 3, 'constitution.': 1, 'no': 5, 'ags': 1, 'advisor': 2, 'without': 1, 'house': 6, 'referring': 1, 'or': 6, 'president.\"': 1, 'special': 1, 'governmental': 1, 'virtually': 1, \"administration's\": 1, 'irreparable': 1, 'meanwhile,': 1, 'renaming': 1, 'chutkan': 2, 'her': 1, 'doge': 10, 'work,': 1, 'service': 3, 'ruling': 1, 'bid': 1, 'personnel': 1, 'taken': 1, 'skepticism': 1, 'authorization': 1, '\"plaintiffs': 1, 'government,': 1, 'harm': 1, 'advisors,\"': 1, 'characterization': 1, 'transparent.\"': 1, 'andrew': 1, 'doge,': 3, 'the': 43, 'seemed': 1, 'sweeping': 1, 'next': 1, 'vivek': 1, 'anyway': 1, 'department': 1, 'ramaswamy.': 1, 'halt': 3, 'it': 2, \"filing's\": 1, 'congress.\"': 1, 'skeptical': 2, 'said:': 1, 'case,': 1, 'senior': 3, 'terminating': 1, '\"maximally': 1, 'appointee': 1, 'actions': 2, 'reporters': 1, 'consultant.': 1, 'you': 5, 'is,': 1, 'musk,': 1, 'continues': 1, 'about': 3, 'order': 1, 'mention': 1, 'patriot.\"': 1, 'to': 20, 'which': 1, 'toggle': 1, '\"clear': 1, 'so': 1, 'caption': 1, 'leader.': 1, 'congress': 1, 'musk': 14, 'data': 1, 'plaintiffs': 1, 'proper': 1, 'employee,': 1, 'individual': 1, 'effort,': 1, 'request': 2, 'tuesday': 1, 'work': 1, \"he's\": 1, 'changes.': 1, 'be': 2, 'entity': 1, 'his': 2, 'she': 3, \"musk's\": 4, 'contradicts': 1, 'district': 1, 'plaintiffs.\"': 1, 'me,': 1, 'entity.': 1, 'lawsuit': 1, '\"senior': 1, 'answering': 1, 'filing': 5, 'candidate': 1, 'though': 1, 'organization': 2, 'tanya': 1, 'expressed': 1, 'not': 7, 'oversight.\"': 1, 'raise': 1, 'as': 6, 'acknowledges': 1, 'efficiency': 1, 'that': 10, '\"our': 1, 'attorneys': 2, 'oval': 1, '(usds)': 1, 'president': 3, \"states'\": 1, 'he': 1, 'president,': 1, 'monday': 3, 'white': 6, 'harnik/getty': 1, 'elon': 1, 'trump': 6, 'call': 4, 'last': 1, 'agencies': 1, 'serves': 1, 'spending': 1, 'denied': 3, 'him': 3, 'technology': 1, 'review': 1, 'admonished': 1, 'assigned': 1, 'appears': 1, 'barack': 1, 'made': 2, 'president.': 1, 'over': 2, 'office,': 1, 'separation': 1, 'public': 1, 'operations': 1, 'could': 3, 'digital': 1, 'democratic': 2, 'federal': 4, \"billionaire's\": 1, 'nebulous': 1, 'day': 1, 'claimed': 1, 'what': 2, 'when': 1, '\"elon': 1, 'sponsor': 2, 'decisions': 1, 'communicate': 1, 'goes': 1, 'its': 1, 'wrote:': 1, 'did': 1, 'temporarily': 1, 'effort': 2, 'certain': 1, '\"in': 1, 'announced': 1, 'restraining': 1, 'say': 1, 'actions\"': 1, 'entity,': 1, 'unchecked': 2, 'role': 4, 'but': 3, 'former': 2, '\"like': 1, 'charge': 2, 'position': 1, 'make': 4, 'a': 17, 'than': 1, 'general': 2, 'created': 1, '\"delegated': 1, 'entrepreneur': 1, 'lawsuit,': 1, 'legally,': 1, 'was': 6, 'question': 1, 'things': 1, 'states,': 1, 'with': 3, 'director': 1, 'states': 2, 'sided': 1, 'questions': 2, 'described': 1, 'decisions.': 1, 'position,': 1, 'agencies.': 1, 'from': 5, 'had': 2, 'involved': 1, 'court': 1, 'can': 1, 'administration': 1, 'executive': 2, 'presidential': 1, 'cancel': 1, 'technically': 1, 'state': 1, 'cutting': 1, 'patriot.': 1, 'tech': 1, 'u.s.': 4, 'one': 1, 'many': 1, 'because,': 1, 'separate': 1, 'tuesday,': 2, 'temporary': 2, '—': 3, 'just': 1, '14': 1, 'judge': 5, 'illegal': 1, 'improving': 1, 'ruled': 1, 'administration,': 1, 'moving': 1, 'mr.': 4, 'who': 3, 'know,': 1, 'by': 5, 'actual': 1, 'employee': 4, 'followed': 1, 'pitched': 1, 'and': 14, 'obama': 1, 'declaration': 2, 'first': 2, 'says': 2, 'holds': 2, 'authority': 6, 'claim': 1, 'umbrella': 1, 'usds': 1, 'message': 2, 'imminent,': 1, 'in': 10, 'other': 4, 'joshua': 1, 'leader': 1, 'want,': 1, 'reads.': 1, 'advisors,': 1, 'representations': 1, 'images': 1, 'greater': 1, 'week,': 1, 'tasked': 1, \"wasn't\": 1, 'into': 1, 'accessing': 1}\n",
      "{\"president's\": 0.0015290519877675841, 'whatever': 0.0015290519877675841, 'lawyers': 0.0030581039755351682, 'gop': 0.0015290519877675841, 'hearing': 0.0015290519877675841, 'for': 0.0030581039755351682, 'co-led': 0.0015290519877675841, 'staffing.': 0.0015290519877675841, 'himself.': 0.0015290519877675841, 'unelected': 0.0015290519877675841, 'position.': 0.0015290519877675841, 'has': 0.00764525993883792, 'advise': 0.0015290519877675841, 'initiative.': 0.0015290519877675841, 'alleged': 0.0015290519877675841, 'legitimately': 0.0015290519877675841, 'standing': 0.0015290519877675841, 'night': 0.0015290519877675841, 'among': 0.0015290519877675841, 'outside': 0.0015290519877675841, 'an': 0.01529051987767584, 'on': 0.0061162079510703364, 'directives.\"': 0.0015290519877675841, 'direct': 0.0015290519877675841, 'legal': 0.0015290519877675841, 'speaking': 0.0015290519877675841, 'under': 0.0015290519877675841, 'violates': 0.0015290519877675841, 'argued': 0.0015290519877675841, 'wrote,': 0.0015290519877675841, 'powers': 0.0015290519877675841, 'united': 0.0015290519877675841, 'there': 0.0015290519877675841, 'employee.': 0.0015290519877675841, \"trump's\": 0.0015290519877675841, 'at': 0.0061162079510703364, 'these': 0.0015290519877675841, 'government': 0.013761467889908258, 'said': 0.0015290519877675841, 'evidence': 0.0015290519877675841, 'formal': 0.0015290519877675841, 'contracts': 0.0015290519877675841, 'is': 0.009174311926605505, 'of': 0.0290519877675841, 'workers': 0.0015290519877675841, 'also': 0.0045871559633027525, 'fisher,': 0.0015290519877675841, 'administrator': 0.0015290519877675841, 'only': 0.0015290519877675841, 'office': 0.0045871559633027525, 'constitution.': 0.0015290519877675841, 'no': 0.00764525993883792, 'ags': 0.0015290519877675841, 'advisor': 0.0030581039755351682, 'without': 0.0015290519877675841, 'house': 0.009174311926605505, 'referring': 0.0015290519877675841, 'or': 0.009174311926605505, 'president.\"': 0.0015290519877675841, 'special': 0.0015290519877675841, 'governmental': 0.0015290519877675841, 'virtually': 0.0015290519877675841, \"administration's\": 0.0015290519877675841, 'irreparable': 0.0015290519877675841, 'meanwhile,': 0.0015290519877675841, 'renaming': 0.0015290519877675841, 'chutkan': 0.0030581039755351682, 'her': 0.0015290519877675841, 'doge': 0.01529051987767584, 'work,': 0.0015290519877675841, 'service': 0.0045871559633027525, 'ruling': 0.0015290519877675841, 'bid': 0.0015290519877675841, 'personnel': 0.0015290519877675841, 'taken': 0.0015290519877675841, 'skepticism': 0.0015290519877675841, 'authorization': 0.0015290519877675841, '\"plaintiffs': 0.0015290519877675841, 'government,': 0.0015290519877675841, 'harm': 0.0015290519877675841, 'advisors,\"': 0.0015290519877675841, 'characterization': 0.0015290519877675841, 'transparent.\"': 0.0015290519877675841, 'andrew': 0.0015290519877675841, 'doge,': 0.0045871559633027525, 'the': 0.06574923547400612, 'seemed': 0.0015290519877675841, 'sweeping': 0.0015290519877675841, 'next': 0.0015290519877675841, 'vivek': 0.0015290519877675841, 'anyway': 0.0015290519877675841, 'department': 0.0015290519877675841, 'ramaswamy.': 0.0015290519877675841, 'halt': 0.0045871559633027525, 'it': 0.0030581039755351682, \"filing's\": 0.0015290519877675841, 'congress.\"': 0.0015290519877675841, 'skeptical': 0.0030581039755351682, 'said:': 0.0015290519877675841, 'case,': 0.0015290519877675841, 'senior': 0.0045871559633027525, 'terminating': 0.0015290519877675841, '\"maximally': 0.0015290519877675841, 'appointee': 0.0015290519877675841, 'actions': 0.0030581039755351682, 'reporters': 0.0015290519877675841, 'consultant.': 0.0015290519877675841, 'you': 0.00764525993883792, 'is,': 0.0015290519877675841, 'musk,': 0.0015290519877675841, 'continues': 0.0015290519877675841, 'about': 0.0045871559633027525, 'order': 0.0015290519877675841, 'mention': 0.0015290519877675841, 'patriot.\"': 0.0015290519877675841, 'to': 0.03058103975535168, 'which': 0.0015290519877675841, 'toggle': 0.0015290519877675841, '\"clear': 0.0015290519877675841, 'so': 0.0015290519877675841, 'caption': 0.0015290519877675841, 'leader.': 0.0015290519877675841, 'congress': 0.0015290519877675841, 'musk': 0.021406727828746176, 'data': 0.0015290519877675841, 'plaintiffs': 0.0015290519877675841, 'proper': 0.0015290519877675841, 'employee,': 0.0015290519877675841, 'individual': 0.0015290519877675841, 'effort,': 0.0015290519877675841, 'request': 0.0030581039755351682, 'tuesday': 0.0015290519877675841, 'work': 0.0015290519877675841, \"he's\": 0.0015290519877675841, 'changes.': 0.0015290519877675841, 'be': 0.0030581039755351682, 'entity': 0.0015290519877675841, 'his': 0.0030581039755351682, 'she': 0.0045871559633027525, \"musk's\": 0.0061162079510703364, 'contradicts': 0.0015290519877675841, 'district': 0.0015290519877675841, 'plaintiffs.\"': 0.0015290519877675841, 'me,': 0.0015290519877675841, 'entity.': 0.0015290519877675841, 'lawsuit': 0.0015290519877675841, '\"senior': 0.0015290519877675841, 'answering': 0.0015290519877675841, 'filing': 0.00764525993883792, 'candidate': 0.0015290519877675841, 'though': 0.0015290519877675841, 'organization': 0.0030581039755351682, 'tanya': 0.0015290519877675841, 'expressed': 0.0015290519877675841, 'not': 0.010703363914373088, 'oversight.\"': 0.0015290519877675841, 'raise': 0.0015290519877675841, 'as': 0.009174311926605505, 'acknowledges': 0.0015290519877675841, 'efficiency': 0.0015290519877675841, 'that': 0.01529051987767584, '\"our': 0.0015290519877675841, 'attorneys': 0.0030581039755351682, 'oval': 0.0015290519877675841, '(usds)': 0.0015290519877675841, 'president': 0.0045871559633027525, \"states'\": 0.0015290519877675841, 'he': 0.0015290519877675841, 'president,': 0.0015290519877675841, 'monday': 0.0045871559633027525, 'white': 0.009174311926605505, 'harnik/getty': 0.0015290519877675841, 'elon': 0.0015290519877675841, 'trump': 0.009174311926605505, 'call': 0.0061162079510703364, 'last': 0.0015290519877675841, 'agencies': 0.0015290519877675841, 'serves': 0.0015290519877675841, 'spending': 0.0015290519877675841, 'denied': 0.0045871559633027525, 'him': 0.0045871559633027525, 'technology': 0.0015290519877675841, 'review': 0.0015290519877675841, 'admonished': 0.0015290519877675841, 'assigned': 0.0015290519877675841, 'appears': 0.0015290519877675841, 'barack': 0.0015290519877675841, 'made': 0.0030581039755351682, 'president.': 0.0015290519877675841, 'over': 0.0030581039755351682, 'office,': 0.0015290519877675841, 'separation': 0.0015290519877675841, 'public': 0.0015290519877675841, 'operations': 0.0015290519877675841, 'could': 0.0045871559633027525, 'digital': 0.0015290519877675841, 'democratic': 0.0030581039755351682, 'federal': 0.0061162079510703364, \"billionaire's\": 0.0015290519877675841, 'nebulous': 0.0015290519877675841, 'day': 0.0015290519877675841, 'claimed': 0.0015290519877675841, 'what': 0.0030581039755351682, 'when': 0.0015290519877675841, '\"elon': 0.0015290519877675841, 'sponsor': 0.0030581039755351682, 'decisions': 0.0015290519877675841, 'communicate': 0.0015290519877675841, 'goes': 0.0015290519877675841, 'its': 0.0015290519877675841, 'wrote:': 0.0015290519877675841, 'did': 0.0015290519877675841, 'temporarily': 0.0015290519877675841, 'effort': 0.0030581039755351682, 'certain': 0.0015290519877675841, '\"in': 0.0015290519877675841, 'announced': 0.0015290519877675841, 'restraining': 0.0015290519877675841, 'say': 0.0015290519877675841, 'actions\"': 0.0015290519877675841, 'entity,': 0.0015290519877675841, 'unchecked': 0.0030581039755351682, 'role': 0.0061162079510703364, 'but': 0.0045871559633027525, 'former': 0.0030581039755351682, '\"like': 0.0015290519877675841, 'charge': 0.0030581039755351682, 'position': 0.0015290519877675841, 'make': 0.0061162079510703364, 'a': 0.02599388379204893, 'than': 0.0015290519877675841, 'general': 0.0030581039755351682, 'created': 0.0015290519877675841, '\"delegated': 0.0015290519877675841, 'entrepreneur': 0.0015290519877675841, 'lawsuit,': 0.0015290519877675841, 'legally,': 0.0015290519877675841, 'was': 0.009174311926605505, 'question': 0.0015290519877675841, 'things': 0.0015290519877675841, 'states,': 0.0015290519877675841, 'with': 0.0045871559633027525, 'director': 0.0015290519877675841, 'states': 0.0030581039755351682, 'sided': 0.0015290519877675841, 'questions': 0.0030581039755351682, 'described': 0.0015290519877675841, 'decisions.': 0.0015290519877675841, 'position,': 0.0015290519877675841, 'agencies.': 0.0015290519877675841, 'from': 0.00764525993883792, 'had': 0.0030581039755351682, 'involved': 0.0015290519877675841, 'court': 0.0015290519877675841, 'can': 0.0015290519877675841, 'administration': 0.0015290519877675841, 'executive': 0.0030581039755351682, 'presidential': 0.0015290519877675841, 'cancel': 0.0015290519877675841, 'technically': 0.0015290519877675841, 'state': 0.0015290519877675841, 'cutting': 0.0015290519877675841, 'patriot.': 0.0015290519877675841, 'tech': 0.0015290519877675841, 'u.s.': 0.0061162079510703364, 'one': 0.0015290519877675841, 'many': 0.0015290519877675841, 'because,': 0.0015290519877675841, 'separate': 0.0015290519877675841, 'tuesday,': 0.0030581039755351682, 'temporary': 0.0030581039755351682, '—': 0.0045871559633027525, 'just': 0.0015290519877675841, '14': 0.0015290519877675841, 'judge': 0.00764525993883792, 'illegal': 0.0015290519877675841, 'improving': 0.0015290519877675841, 'ruled': 0.0015290519877675841, 'administration,': 0.0015290519877675841, 'moving': 0.0015290519877675841, 'mr.': 0.0061162079510703364, 'who': 0.0045871559633027525, 'know,': 0.0015290519877675841, 'by': 0.00764525993883792, 'actual': 0.0015290519877675841, 'employee': 0.0061162079510703364, 'followed': 0.0015290519877675841, 'pitched': 0.0015290519877675841, 'and': 0.021406727828746176, 'obama': 0.0015290519877675841, 'declaration': 0.0030581039755351682, 'first': 0.0030581039755351682, 'says': 0.0030581039755351682, 'holds': 0.0030581039755351682, 'authority': 0.009174311926605505, 'claim': 0.0015290519877675841, 'umbrella': 0.0015290519877675841, 'usds': 0.0015290519877675841, 'message': 0.0030581039755351682, 'imminent,': 0.0015290519877675841, 'in': 0.01529051987767584, 'other': 0.0061162079510703364, 'joshua': 0.0015290519877675841, 'leader': 0.0015290519877675841, 'want,': 0.0015290519877675841, 'reads.': 0.0015290519877675841, 'advisors,': 0.0015290519877675841, 'representations': 0.0015290519877675841, 'images': 0.0015290519877675841, 'greater': 0.0015290519877675841, 'week,': 0.0015290519877675841, 'tasked': 0.0015290519877675841, \"wasn't\": 0.0015290519877675841, 'into': 0.0015290519877675841, 'accessing': 0.0015290519877675841}\n"
     ]
    }
   ],
   "source": [
    "# now we create a bag-of-words language model for this article\n",
    "# the naive version - we want to count the frequencies of each word type\n",
    "word_tokens = article1.text.lower().split()\n",
    "word_types = set(word_tokens)\n",
    "\n",
    "# let's count the numer of times each word type has occurred\n",
    "word_counter = {} # use a python dictionary to keep the counts\n",
    "bow_model = {}\n",
    "for wt in word_types: \n",
    "    word_counter [wt] = word_tokens.count(wt)\n",
    "    bow_model[wt] = word_tokens.count(wt) / len(word_tokens)\n",
    "\n",
    "print(word_counter)\n",
    "print(bow_model)"
   ]
  },
  {
   "cell_type": "code",
   "execution_count": 6,
   "metadata": {},
   "outputs": [
    {
     "data": {
      "text/plain": [
       "0.021406727828746176"
      ]
     },
     "execution_count": 6,
     "metadata": {},
     "output_type": "execute_result"
    }
   ],
   "source": [
    "# we can ask the model for probability of words\n",
    "bow_model[\"and\"]"
   ]
  }
 ],
 "metadata": {
  "kernelspec": {
   "display_name": "Python 3",
   "language": "python",
   "name": "python3"
  },
  "language_info": {
   "codemirror_mode": {
    "name": "ipython",
    "version": 3
   },
   "file_extension": ".py",
   "mimetype": "text/x-python",
   "name": "python",
   "nbconvert_exporter": "python",
   "pygments_lexer": "ipython3",
   "version": "3.12.1"
  }
 },
 "nbformat": 4,
 "nbformat_minor": 2
}
