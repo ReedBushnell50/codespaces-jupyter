{
 "cells": [
  {
   "cell_type": "code",
   "execution_count": 1,
   "metadata": {},
   "outputs": [
    {
     "name": "stdout",
     "output_type": "stream",
     "text": [
      "Requirement already satisfied: nltk in /usr/local/python/3.12.1/lib/python3.12/site-packages (3.9.1)\n",
      "Requirement already satisfied: click in /usr/local/python/3.12.1/lib/python3.12/site-packages (from nltk) (8.1.8)\n",
      "Requirement already satisfied: joblib in /home/codespace/.local/lib/python3.12/site-packages (from nltk) (1.4.2)\n",
      "Requirement already satisfied: regex>=2021.8.3 in /usr/local/python/3.12.1/lib/python3.12/site-packages (from nltk) (2024.11.6)\n",
      "Requirement already satisfied: tqdm in /usr/local/python/3.12.1/lib/python3.12/site-packages (from nltk) (4.66.4)\n",
      "\n",
      "\u001b[1m[\u001b[0m\u001b[34;49mnotice\u001b[0m\u001b[1;39;49m]\u001b[0m\u001b[39;49m A new release of pip is available: \u001b[0m\u001b[31;49m24.3.1\u001b[0m\u001b[39;49m -> \u001b[0m\u001b[32;49m25.0.1\u001b[0m\n",
      "\u001b[1m[\u001b[0m\u001b[34;49mnotice\u001b[0m\u001b[1;39;49m]\u001b[0m\u001b[39;49m To update, run: \u001b[0m\u001b[32;49mpython -m pip install --upgrade pip\u001b[0m\n",
      "Note: you may need to restart the kernel to use updated packages.\n"
     ]
    }
   ],
   "source": [
    "%pip install nltk"
   ]
  },
  {
   "cell_type": "code",
   "execution_count": 2,
   "metadata": {},
   "outputs": [
    {
     "name": "stderr",
     "output_type": "stream",
     "text": [
      "[nltk_data] Downloading package movie_reviews to\n",
      "[nltk_data]     /home/codespace/nltk_data...\n",
      "[nltk_data]   Package movie_reviews is already up-to-date!\n"
     ]
    },
    {
     "data": {
      "text/plain": [
       "True"
      ]
     },
     "execution_count": 2,
     "metadata": {},
     "output_type": "execute_result"
    }
   ],
   "source": [
    "import nltk\n",
    "from nltk.corpus import movie_reviews\n",
    "nltk.download('movie_reviews')"
   ]
  },
  {
   "cell_type": "code",
   "execution_count": 3,
   "metadata": {},
   "outputs": [],
   "source": [
    "# make all the bigrams for this entire corpus\n",
    "# there's a method in nltk that doe sthis for us!\n",
    "review_bigrams = nltk.bigrams(movie_reviews.words())"
   ]
  },
  {
   "cell_type": "code",
   "execution_count": 16,
   "metadata": {},
   "outputs": [
    {
     "name": "stdout",
     "output_type": "stream",
     "text": [
      "[('with', ['your', 'the', 'movies', 'little', 'the']), ('enter', ['your']), ('also', ['wrapped']), ('mess', ['with']), ('problems', ['with']), ('line', ['with']), ('video', ['with']), ('hot', ['with']), ('blair', ['witch']), ('know', ['who', 'the', 'why'])]\n",
      "[('with', ['your', 'the', 'movies', 'little', 'the']), ('enter', ['your']), ('also', ['wrapped']), ('mess', ['with']), ('problems', ['with']), ('line', ['with']), ('video', ['with']), ('hot', ['with']), ('blair', ['witch']), ('know', ['who', 'the', 'why'])]\n",
      "['good', 'the', 'dreams', 'characters', 'others', 'strange', 'disappearances', 'a', 'tons', 'given', 'people', '.', 'pretty']\n"
     ]
    }
   ],
   "source": [
    "# now we want to build a full bigram model for all context tokens\n",
    "from collections import Counter\n",
    "\n",
    "# build the bigrams again\n",
    "review_bigrams = list(nltk.bigrams(movie_reviews.words()))[:1000]\n",
    "\n",
    "# use a dictionary to keep track of all the context tokens\n",
    "bigram_lm = {}\n",
    "target_tokens = {}\n",
    "\n",
    "# figure out all the word types first\n",
    "vocabulary = set([word.lower() for word in movie_reviews.words()])\n",
    "\n",
    "# build the bigram model\n",
    "for bigram in review_bigrams:\n",
    "    context_token = bigram[0].lower()\n",
    "    target_token = bigram[1].lower()\n",
    "    if context_token in target_tokens:\n",
    "        target_tokens[context_token].append(target_token)\n",
    "    else:\n",
    "        target_tokens[context_token] = [target_token]\n",
    "\n",
    "for context_token in target_tokens.keys():\n",
    "    bigram_lm[context_token] = Counter(target_tokens)\n",
    "\n",
    "# What did we build? Let's take a look at the bigram model\n",
    "print(bigram_lm['people'].most_common(10))\n",
    "print(bigram_lm['what'].most_common(10))\n",
    "print(bigram_lm['people']['are'])"
   ]
  }
 ],
 "metadata": {
  "kernelspec": {
   "display_name": "Python 3",
   "language": "python",
   "name": "python3"
  },
  "language_info": {
   "codemirror_mode": {
    "name": "ipython",
    "version": 3
   },
   "file_extension": ".py",
   "mimetype": "text/x-python",
   "name": "python",
   "nbconvert_exporter": "python",
   "pygments_lexer": "ipython3",
   "version": "3.12.1"
  }
 },
 "nbformat": 4,
 "nbformat_minor": 2
}
